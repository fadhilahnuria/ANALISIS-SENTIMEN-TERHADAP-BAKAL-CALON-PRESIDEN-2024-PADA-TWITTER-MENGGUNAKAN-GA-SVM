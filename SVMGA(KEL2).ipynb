{
 "cells": [
  {
   "cell_type": "markdown",
   "id": "56f66661",
   "metadata": {},
   "source": [
    "### Menggabungkan Dataset"
   ]
  },
  {
   "cell_type": "code",
   "execution_count": 1,
   "id": "63407d9d",
   "metadata": {},
   "outputs": [],
   "source": [
    "import pandas as pd\n",
    "\n",
    "anies = pd.read_csv('hasilpreproanies.csv')\n",
    "anies['capres'] = 'anies'\n",
    "pre_anies = anies.iloc[:,12:14]"
   ]
  },
  {
   "cell_type": "code",
   "execution_count": 2,
   "id": "14b604b4",
   "metadata": {},
   "outputs": [],
   "source": [
    "ganjar = pd.read_csv('hasilpreproganjar.csv')\n",
    "ganjar['capres'] = 'ganjar'\n",
    "pre_ganjar = ganjar.iloc[:,12:14]"
   ]
  },
  {
   "cell_type": "code",
   "execution_count": 3,
   "id": "4f41c9bb",
   "metadata": {},
   "outputs": [],
   "source": [
    "prabowo = pd.read_csv('hasilpreproprabowo.csv')\n",
    "prabowo['capres'] = 'prabowo'\n",
    "pre_prabowo = prabowo.iloc[:,12:14]"
   ]
  },
  {
   "cell_type": "code",
   "execution_count": 13,
   "id": "c6513995",
   "metadata": {
    "scrolled": true
   },
   "outputs": [],
   "source": [
    "df = pd.concat([pre_anies, pre_ganjar, pre_prabowo])\n",
    "df = df.reset_index()"
   ]
  },
  {
   "cell_type": "code",
   "execution_count": 14,
   "id": "1b220547",
   "metadata": {},
   "outputs": [
    {
     "data": {
      "text/plain": [
       "'putar kunci nya menyakinkan pilih prabowo lari anies orang tetangga dukung prabowo alih anies debat usaha menyakin sisi positif nya prabowo ubah dukung prabowo'"
      ]
     },
     "execution_count": 14,
     "metadata": {},
     "output_type": "execute_result"
    }
   ],
   "source": [
    "df.preprocessing[1]"
   ]
  },
  {
   "cell_type": "code",
   "execution_count": 15,
   "id": "2790bf5f",
   "metadata": {},
   "outputs": [
    {
     "data": {
      "text/plain": [
       "anies      604\n",
       "ganjar     543\n",
       "prabowo    140\n",
       "Name: capres, dtype: int64"
      ]
     },
     "execution_count": 15,
     "metadata": {},
     "output_type": "execute_result"
    }
   ],
   "source": [
    "df.capres.value_counts()"
   ]
  },
  {
   "cell_type": "code",
   "execution_count": 16,
   "id": "c99603ee",
   "metadata": {},
   "outputs": [],
   "source": [
    "df.to_csv('gabung_data.csv', index=False)"
   ]
  },
  {
   "cell_type": "code",
   "execution_count": 104,
   "id": "001fe553",
   "metadata": {},
   "outputs": [
    {
     "data": {
      "text/html": [
       "<div>\n",
       "<style scoped>\n",
       "    .dataframe tbody tr th:only-of-type {\n",
       "        vertical-align: middle;\n",
       "    }\n",
       "\n",
       "    .dataframe tbody tr th {\n",
       "        vertical-align: top;\n",
       "    }\n",
       "\n",
       "    .dataframe thead th {\n",
       "        text-align: right;\n",
       "    }\n",
       "</style>\n",
       "<table border=\"1\" class=\"dataframe\">\n",
       "  <thead>\n",
       "    <tr style=\"text-align: right;\">\n",
       "      <th></th>\n",
       "      <th>index</th>\n",
       "      <th>preprocessing</th>\n",
       "      <th>capres</th>\n",
       "    </tr>\n",
       "  </thead>\n",
       "  <tbody>\n",
       "    <tr>\n",
       "      <th>0</th>\n",
       "      <td>0</td>\n",
       "      <td>salah nya mana logika sederhana gue suara bant...</td>\n",
       "      <td>anies</td>\n",
       "    </tr>\n",
       "    <tr>\n",
       "      <th>1</th>\n",
       "      <td>1</td>\n",
       "      <td>putar kunci nya menyakinkan pilih prabowo lari...</td>\n",
       "      <td>anies</td>\n",
       "    </tr>\n",
       "    <tr>\n",
       "      <th>2</th>\n",
       "      <td>2</td>\n",
       "      <td>let us recap this calon presiden anies basweda...</td>\n",
       "      <td>anies</td>\n",
       "    </tr>\n",
       "    <tr>\n",
       "      <th>3</th>\n",
       "      <td>3</td>\n",
       "      <td>force majeur sepe i sepe inya lolos audit corr...</td>\n",
       "      <td>anies</td>\n",
       "    </tr>\n",
       "    <tr>\n",
       "      <th>4</th>\n",
       "      <td>4</td>\n",
       "      <td>salah nya mana logika sederhana gue suara bant...</td>\n",
       "      <td>anies</td>\n",
       "    </tr>\n",
       "    <tr>\n",
       "      <th>...</th>\n",
       "      <td>...</td>\n",
       "      <td>...</td>\n",
       "      <td>...</td>\n",
       "    </tr>\n",
       "    <tr>\n",
       "      <th>1282</th>\n",
       "      <td>135</td>\n",
       "      <td>indonesia cari ganti presiden jokowi suruh pil...</td>\n",
       "      <td>prabowo</td>\n",
       "    </tr>\n",
       "    <tr>\n",
       "      <th>1283</th>\n",
       "      <td>136</td>\n",
       "      <td>prabowo unggul program makan siang gratis raky...</td>\n",
       "      <td>prabowo</td>\n",
       "    </tr>\n",
       "    <tr>\n",
       "      <th>1284</th>\n",
       "      <td>137</td>\n",
       "      <td>bangun tahan bencana timbul air water related ...</td>\n",
       "      <td>prabowo</td>\n",
       "    </tr>\n",
       "    <tr>\n",
       "      <th>1285</th>\n",
       "      <td>138</td>\n",
       "      <td>sepakat ayahbowo masgibran keren harap pacu wa...</td>\n",
       "      <td>prabowo</td>\n",
       "    </tr>\n",
       "    <tr>\n",
       "      <th>1286</th>\n",
       "      <td>139</td>\n",
       "      <td>wkwk ganjar masuk pe imbang sisa prabowo anies...</td>\n",
       "      <td>prabowo</td>\n",
       "    </tr>\n",
       "  </tbody>\n",
       "</table>\n",
       "<p>1287 rows × 3 columns</p>\n",
       "</div>"
      ],
      "text/plain": [
       "      index                                      preprocessing   capres\n",
       "0         0  salah nya mana logika sederhana gue suara bant...    anies\n",
       "1         1  putar kunci nya menyakinkan pilih prabowo lari...    anies\n",
       "2         2  let us recap this calon presiden anies basweda...    anies\n",
       "3         3  force majeur sepe i sepe inya lolos audit corr...    anies\n",
       "4         4  salah nya mana logika sederhana gue suara bant...    anies\n",
       "...     ...                                                ...      ...\n",
       "1282    135  indonesia cari ganti presiden jokowi suruh pil...  prabowo\n",
       "1283    136  prabowo unggul program makan siang gratis raky...  prabowo\n",
       "1284    137  bangun tahan bencana timbul air water related ...  prabowo\n",
       "1285    138  sepakat ayahbowo masgibran keren harap pacu wa...  prabowo\n",
       "1286    139  wkwk ganjar masuk pe imbang sisa prabowo anies...  prabowo\n",
       "\n",
       "[1287 rows x 3 columns]"
      ]
     },
     "execution_count": 104,
     "metadata": {},
     "output_type": "execute_result"
    }
   ],
   "source": [
    "df1 = pd.read_csv('gabung_data.csv')\n",
    "df1"
   ]
  },
  {
   "cell_type": "code",
   "execution_count": 1,
   "id": "3b94ebc8",
   "metadata": {
    "scrolled": true
   },
   "outputs": [
    {
     "data": {
      "text/html": [
       "<div>\n",
       "<style scoped>\n",
       "    .dataframe tbody tr th:only-of-type {\n",
       "        vertical-align: middle;\n",
       "    }\n",
       "\n",
       "    .dataframe tbody tr th {\n",
       "        vertical-align: top;\n",
       "    }\n",
       "\n",
       "    .dataframe thead th {\n",
       "        text-align: right;\n",
       "    }\n",
       "</style>\n",
       "<table border=\"1\" class=\"dataframe\">\n",
       "  <thead>\n",
       "    <tr style=\"text-align: right;\">\n",
       "      <th></th>\n",
       "      <th>Id</th>\n",
       "      <th>Sentiment</th>\n",
       "      <th>Pasangan Calon</th>\n",
       "      <th>Text Tweet</th>\n",
       "    </tr>\n",
       "  </thead>\n",
       "  <tbody>\n",
       "    <tr>\n",
       "      <th>0</th>\n",
       "      <td>1</td>\n",
       "      <td>negative</td>\n",
       "      <td>Agus-Sylvi</td>\n",
       "      <td>Banyak akun kloning seolah2 pendukung #agussil...</td>\n",
       "    </tr>\n",
       "    <tr>\n",
       "      <th>1</th>\n",
       "      <td>2</td>\n",
       "      <td>negative</td>\n",
       "      <td>Agus-Sylvi</td>\n",
       "      <td>#agussilvy bicara apa kasihan yaa...lap itu ai...</td>\n",
       "    </tr>\n",
       "    <tr>\n",
       "      <th>2</th>\n",
       "      <td>3</td>\n",
       "      <td>negative</td>\n",
       "      <td>Agus-Sylvi</td>\n",
       "      <td>Kalau aku sih gak nunggu hasil akhir QC tp lag...</td>\n",
       "    </tr>\n",
       "    <tr>\n",
       "      <th>3</th>\n",
       "      <td>4</td>\n",
       "      <td>negative</td>\n",
       "      <td>Agus-Sylvi</td>\n",
       "      <td>Kasian oh kasian dengan peluru 1milyar untuk t...</td>\n",
       "    </tr>\n",
       "    <tr>\n",
       "      <th>4</th>\n",
       "      <td>5</td>\n",
       "      <td>negative</td>\n",
       "      <td>Agus-Sylvi</td>\n",
       "      <td>Maaf ya pendukung #AgusSilvy..hayo dukung #Ani...</td>\n",
       "    </tr>\n",
       "    <tr>\n",
       "      <th>...</th>\n",
       "      <td>...</td>\n",
       "      <td>...</td>\n",
       "      <td>...</td>\n",
       "      <td>...</td>\n",
       "    </tr>\n",
       "    <tr>\n",
       "      <th>895</th>\n",
       "      <td>896</td>\n",
       "      <td>positive</td>\n",
       "      <td>Anies-Sandi</td>\n",
       "      <td>Kali saja bpk @aniesbaswedan @sandiuno lihat, ...</td>\n",
       "    </tr>\n",
       "    <tr>\n",
       "      <th>896</th>\n",
       "      <td>897</td>\n",
       "      <td>positive</td>\n",
       "      <td>Anies-Sandi</td>\n",
       "      <td>Kita harus dapat merangkul semua orang tanpa b...</td>\n",
       "    </tr>\n",
       "    <tr>\n",
       "      <th>897</th>\n",
       "      <td>898</td>\n",
       "      <td>positive</td>\n",
       "      <td>Anies-Sandi</td>\n",
       "      <td>Ini jagoanku dibidang digital &lt;Smiling Face Wi...</td>\n",
       "    </tr>\n",
       "    <tr>\n",
       "      <th>898</th>\n",
       "      <td>899</td>\n",
       "      <td>positive</td>\n",
       "      <td>Anies-Sandi</td>\n",
       "      <td>#PesanBijak #OkeOce #GubernurGu3 ...</td>\n",
       "    </tr>\n",
       "    <tr>\n",
       "      <th>899</th>\n",
       "      <td>900</td>\n",
       "      <td>positive</td>\n",
       "      <td>Anies-Sandi</td>\n",
       "      <td>Sandiaga: Bangun Rumah DP 0% Lebih Simpel Diba...</td>\n",
       "    </tr>\n",
       "  </tbody>\n",
       "</table>\n",
       "<p>900 rows × 4 columns</p>\n",
       "</div>"
      ],
      "text/plain": [
       "      Id Sentiment Pasangan Calon  \\\n",
       "0      1  negative     Agus-Sylvi   \n",
       "1      2  negative     Agus-Sylvi   \n",
       "2      3  negative     Agus-Sylvi   \n",
       "3      4  negative     Agus-Sylvi   \n",
       "4      5  negative     Agus-Sylvi   \n",
       "..   ...       ...            ...   \n",
       "895  896  positive    Anies-Sandi   \n",
       "896  897  positive    Anies-Sandi   \n",
       "897  898  positive    Anies-Sandi   \n",
       "898  899  positive    Anies-Sandi   \n",
       "899  900  positive    Anies-Sandi   \n",
       "\n",
       "                                            Text Tweet  \n",
       "0    Banyak akun kloning seolah2 pendukung #agussil...  \n",
       "1    #agussilvy bicara apa kasihan yaa...lap itu ai...  \n",
       "2    Kalau aku sih gak nunggu hasil akhir QC tp lag...  \n",
       "3    Kasian oh kasian dengan peluru 1milyar untuk t...  \n",
       "4    Maaf ya pendukung #AgusSilvy..hayo dukung #Ani...  \n",
       "..                                                 ...  \n",
       "895  Kali saja bpk @aniesbaswedan @sandiuno lihat, ...  \n",
       "896  Kita harus dapat merangkul semua orang tanpa b...  \n",
       "897  Ini jagoanku dibidang digital <Smiling Face Wi...  \n",
       "898               #PesanBijak #OkeOce #GubernurGu3 ...  \n",
       "899  Sandiaga: Bangun Rumah DP 0% Lebih Simpel Diba...  \n",
       "\n",
       "[900 rows x 4 columns]"
      ]
     },
     "execution_count": 1,
     "metadata": {},
     "output_type": "execute_result"
    }
   ],
   "source": [
    "import pandas as pd\n",
    "\n",
    "df = pd.read_csv('ori.csv')\n",
    "df"
   ]
  },
  {
   "cell_type": "code",
   "execution_count": 83,
   "id": "368b7d0f",
   "metadata": {},
   "outputs": [
    {
     "data": {
      "text/plain": [
       "negative    450\n",
       "positive    450\n",
       "Name: Sentiment, dtype: int64"
      ]
     },
     "execution_count": 83,
     "metadata": {},
     "output_type": "execute_result"
    }
   ],
   "source": [
    "df.Sentiment.value_counts()"
   ]
  },
  {
   "cell_type": "code",
   "execution_count": 2,
   "id": "34d5bc64",
   "metadata": {},
   "outputs": [],
   "source": [
    "alay_dict = pd.read_csv('new_kamusalay.csv', header=None, encoding='latin-1')\n",
    "# Mengganti nama kolom\n",
    "alay_dict = alay_dict.rename(columns={0: 'original',\n",
    "                                     1: 'replacement'})\n",
    "\n",
    "id_stopword_dict = pd.read_csv('stopwordbahasa.csv', header=None, encoding='latin-1')\n",
    "id_stopword_dict = id_stopword_dict.rename(columns={0: 'stopword'})\n",
    "\n",
    "import re\n",
    "from Sastrawi.Stemmer.StemmerFactory import StemmerFactory\n",
    "\n",
    "factory = StemmerFactory()\n",
    "stemmer = factory.create_stemmer()\n",
    "\n",
    "def lowercase(text):\n",
    "    return text.lower()\n",
    "\n",
    "def remove_unnecessary_char(text):\n",
    "    text = re.sub('\\n', ' ', text) # Remove every '\\n'\n",
    "    text = re.sub('rt', ' ', text) # Remove every retweet symbol\n",
    "    text = re.sub('user', ' ', text) # Remove every username\n",
    "    text = re.sub('((www\\.[^\\s]+)|(https?://[^\\s]+))', ' ', text) # Remove every url\n",
    "    text = re.sub('  +', ' ', text) # Remove extra spaces\n",
    "    return text\n",
    "\n",
    "def remove_symbolnumeric(text):\n",
    "    # Menghapus simbol selain huruf dan spasi, dan menggantinya dengan spasi\n",
    "    text_without_symbols = re.sub(r'[^a-zA-Z\\s]', ' ', text)\n",
    "\n",
    "    # Mengganti multiple spasi dengan satu spasi\n",
    "    text_without_symbols = re.sub(r'\\s+', ' ', text_without_symbols)\n",
    "\n",
    "    return text_without_symbols.strip()\n",
    "\n",
    "alay_dict_map = dict(zip(alay_dict['original'], alay_dict['replacement']))\n",
    "\n",
    "def normalize_alay(text):\n",
    "    return ' '.join([alay_dict_map[word] if word in alay_dict_map else word for word in text.split(' ')])\n",
    "\n",
    "def remove_stopword(text):\n",
    "    text = ' '.join([ ' ' if word in id_stopword_dict.stopword.values else word for word in text.split(' ')])\n",
    "    text = re.sub('  +', ' ', text) # Remove extra spaces\n",
    "    text = text.strip() # Remove space in begining and end of sentences\n",
    "    return text\n",
    "\n",
    "# Mengubah kata menjadi kata dasar nya. Ex: Programmer, programming = program\n",
    "def stemming (text):\n",
    "    return stemmer.stem(text)\n",
    "\n",
    "def remove_hashtag_prefix(hashtag):\n",
    "    # Menggunakan ekspresi reguler untuk menghapus kata yang melekat pada hashtag\n",
    "    cleaned_hashtag = re.sub(r'#\\w+', '#', hashtag)\n",
    "    return cleaned_hashtag\n",
    "\n",
    "def preprocess(text):\n",
    "    text = lowercase(text)\n",
    "    text = remove_unnecessary_char(text)\n",
    "    text = remove_hashtag_prefix(text)\n",
    "    text = remove_symbolnumeric(text)\n",
    "    text = remove_stopword(text)\n",
    "    text = stemming(text)\n",
    "    text = normalize_alay(text)\n",
    "    return text"
   ]
  },
  {
   "cell_type": "code",
   "execution_count": 4,
   "id": "9df43124",
   "metadata": {},
   "outputs": [],
   "source": [
    "df['preprocessing'] = df['Text Tweet'].apply(preprocess)"
   ]
  },
  {
   "cell_type": "code",
   "execution_count": 6,
   "id": "377274b0",
   "metadata": {},
   "outputs": [],
   "source": [
    "df['preprobaru'] = df['preprocessing'].apply(preprocess)"
   ]
  },
  {
   "cell_type": "code",
   "execution_count": 7,
   "id": "3973564d",
   "metadata": {
    "scrolled": false
   },
   "outputs": [
    {
     "data": {
      "text/html": [
       "<div>\n",
       "<style scoped>\n",
       "    .dataframe tbody tr th:only-of-type {\n",
       "        vertical-align: middle;\n",
       "    }\n",
       "\n",
       "    .dataframe tbody tr th {\n",
       "        vertical-align: top;\n",
       "    }\n",
       "\n",
       "    .dataframe thead th {\n",
       "        text-align: right;\n",
       "    }\n",
       "</style>\n",
       "<table border=\"1\" class=\"dataframe\">\n",
       "  <thead>\n",
       "    <tr style=\"text-align: right;\">\n",
       "      <th></th>\n",
       "      <th>Id</th>\n",
       "      <th>Sentiment</th>\n",
       "      <th>Pasangan Calon</th>\n",
       "      <th>Text Tweet</th>\n",
       "      <th>preprocessing</th>\n",
       "      <th>preprobaru</th>\n",
       "    </tr>\n",
       "  </thead>\n",
       "  <tbody>\n",
       "    <tr>\n",
       "      <th>0</th>\n",
       "      <td>1</td>\n",
       "      <td>negative</td>\n",
       "      <td>Agus-Sylvi</td>\n",
       "      <td>Banyak akun kloning seolah2 pendukung #agussil...</td>\n",
       "      <td>akun kloning dukung serang pasangan calon opin...</td>\n",
       "      <td>akun kloning dukung serang pasang calon opini ...</td>\n",
       "    </tr>\n",
       "    <tr>\n",
       "      <th>1</th>\n",
       "      <td>2</td>\n",
       "      <td>negative</td>\n",
       "      <td>Agus-Sylvi</td>\n",
       "      <td>#agussilvy bicara apa kasihan yaa...lap itu ai...</td>\n",
       "      <td>bicara kasihan ya lap air mata wkwk</td>\n",
       "      <td>bicara kasihan ya lap air mata wkwk</td>\n",
       "    </tr>\n",
       "    <tr>\n",
       "      <th>2</th>\n",
       "      <td>3</td>\n",
       "      <td>negative</td>\n",
       "      <td>Agus-Sylvi</td>\n",
       "      <td>Kalau aku sih gak nunggu hasil akhir QC tp lag...</td>\n",
       "      <td>sih tidak menunggu hasil qc tetapi menunggu mo...</td>\n",
       "      <td>sih tunggu hasil qc tunggu motif cuit susilo b...</td>\n",
       "    </tr>\n",
       "    <tr>\n",
       "      <th>3</th>\n",
       "      <td>4</td>\n",
       "      <td>negative</td>\n",
       "      <td>Agus-Sylvi</td>\n",
       "      <td>Kasian oh kasian dengan peluru 1milyar untuk t...</td>\n",
       "      <td>kasih oh kasih peluru milyar rukun warga mempa...</td>\n",
       "      <td>kasih oh kasih peluru milyar rukun warga mempa...</td>\n",
       "    </tr>\n",
       "    <tr>\n",
       "      <th>4</th>\n",
       "      <td>5</td>\n",
       "      <td>negative</td>\n",
       "      <td>Agus-Sylvi</td>\n",
       "      <td>Maaf ya pendukung #AgusSilvy..hayo dukung #Ani...</td>\n",
       "      <td>maaf ya dukung hayo dukung putar ronavioleta n...</td>\n",
       "      <td>maaf ya dukung hayo dukung putar ronavioleta n...</td>\n",
       "    </tr>\n",
       "    <tr>\n",
       "      <th>...</th>\n",
       "      <td>...</td>\n",
       "      <td>...</td>\n",
       "      <td>...</td>\n",
       "      <td>...</td>\n",
       "      <td>...</td>\n",
       "      <td>...</td>\n",
       "    </tr>\n",
       "    <tr>\n",
       "      <th>895</th>\n",
       "      <td>896</td>\n",
       "      <td>positive</td>\n",
       "      <td>Anies-Sandi</td>\n",
       "      <td>Kali saja bpk @aniesbaswedan @sandiuno lihat, ...</td>\n",
       "      <td>kali bapak aniesbaswedan sandiuno lihat rspun ...</td>\n",
       "      <td>kali aniesbaswedan sandiuno lihat rspun swafot...</td>\n",
       "    </tr>\n",
       "    <tr>\n",
       "      <th>896</th>\n",
       "      <td>897</td>\n",
       "      <td>positive</td>\n",
       "      <td>Anies-Sandi</td>\n",
       "      <td>Kita harus dapat merangkul semua orang tanpa b...</td>\n",
       "      <td>rangkul orang batas usia kelamin oke hand vict...</td>\n",
       "      <td>rangkul orang batas usia kelamin oke hand vict...</td>\n",
       "    </tr>\n",
       "    <tr>\n",
       "      <th>897</th>\n",
       "      <td>898</td>\n",
       "      <td>positive</td>\n",
       "      <td>Anies-Sandi</td>\n",
       "      <td>Ini jagoanku dibidang digital &lt;Smiling Face Wi...</td>\n",
       "      <td>jago bidang digital smiling face dengan sungla...</td>\n",
       "      <td>jago bidang digital smiling face sunglasses ok...</td>\n",
       "    </tr>\n",
       "    <tr>\n",
       "      <th>898</th>\n",
       "      <td>899</td>\n",
       "      <td>positive</td>\n",
       "      <td>Anies-Sandi</td>\n",
       "      <td>#PesanBijak #OkeOce #GubernurGu3 ...</td>\n",
       "      <td></td>\n",
       "      <td></td>\n",
       "    </tr>\n",
       "    <tr>\n",
       "      <th>899</th>\n",
       "      <td>900</td>\n",
       "      <td>positive</td>\n",
       "      <td>Anies-Sandi</td>\n",
       "      <td>Sandiaga: Bangun Rumah DP 0% Lebih Simpel Diba...</td>\n",
       "      <td>sandiaga bangun rumah uang muka simpel banding...</td>\n",
       "      <td>sandiaga bangun rumah uang muka simpel banding...</td>\n",
       "    </tr>\n",
       "  </tbody>\n",
       "</table>\n",
       "<p>900 rows × 6 columns</p>\n",
       "</div>"
      ],
      "text/plain": [
       "      Id Sentiment Pasangan Calon  \\\n",
       "0      1  negative     Agus-Sylvi   \n",
       "1      2  negative     Agus-Sylvi   \n",
       "2      3  negative     Agus-Sylvi   \n",
       "3      4  negative     Agus-Sylvi   \n",
       "4      5  negative     Agus-Sylvi   \n",
       "..   ...       ...            ...   \n",
       "895  896  positive    Anies-Sandi   \n",
       "896  897  positive    Anies-Sandi   \n",
       "897  898  positive    Anies-Sandi   \n",
       "898  899  positive    Anies-Sandi   \n",
       "899  900  positive    Anies-Sandi   \n",
       "\n",
       "                                            Text Tweet  \\\n",
       "0    Banyak akun kloning seolah2 pendukung #agussil...   \n",
       "1    #agussilvy bicara apa kasihan yaa...lap itu ai...   \n",
       "2    Kalau aku sih gak nunggu hasil akhir QC tp lag...   \n",
       "3    Kasian oh kasian dengan peluru 1milyar untuk t...   \n",
       "4    Maaf ya pendukung #AgusSilvy..hayo dukung #Ani...   \n",
       "..                                                 ...   \n",
       "895  Kali saja bpk @aniesbaswedan @sandiuno lihat, ...   \n",
       "896  Kita harus dapat merangkul semua orang tanpa b...   \n",
       "897  Ini jagoanku dibidang digital <Smiling Face Wi...   \n",
       "898               #PesanBijak #OkeOce #GubernurGu3 ...   \n",
       "899  Sandiaga: Bangun Rumah DP 0% Lebih Simpel Diba...   \n",
       "\n",
       "                                         preprocessing  \\\n",
       "0    akun kloning dukung serang pasangan calon opin...   \n",
       "1                  bicara kasihan ya lap air mata wkwk   \n",
       "2    sih tidak menunggu hasil qc tetapi menunggu mo...   \n",
       "3    kasih oh kasih peluru milyar rukun warga mempa...   \n",
       "4    maaf ya dukung hayo dukung putar ronavioleta n...   \n",
       "..                                                 ...   \n",
       "895  kali bapak aniesbaswedan sandiuno lihat rspun ...   \n",
       "896  rangkul orang batas usia kelamin oke hand vict...   \n",
       "897  jago bidang digital smiling face dengan sungla...   \n",
       "898                                                      \n",
       "899  sandiaga bangun rumah uang muka simpel banding...   \n",
       "\n",
       "                                            preprobaru  \n",
       "0    akun kloning dukung serang pasang calon opini ...  \n",
       "1                  bicara kasihan ya lap air mata wkwk  \n",
       "2    sih tunggu hasil qc tunggu motif cuit susilo b...  \n",
       "3    kasih oh kasih peluru milyar rukun warga mempa...  \n",
       "4    maaf ya dukung hayo dukung putar ronavioleta n...  \n",
       "..                                                 ...  \n",
       "895  kali aniesbaswedan sandiuno lihat rspun swafot...  \n",
       "896  rangkul orang batas usia kelamin oke hand vict...  \n",
       "897  jago bidang digital smiling face sunglasses ok...  \n",
       "898                                                     \n",
       "899  sandiaga bangun rumah uang muka simpel banding...  \n",
       "\n",
       "[900 rows x 6 columns]"
      ]
     },
     "execution_count": 7,
     "metadata": {},
     "output_type": "execute_result"
    }
   ],
   "source": [
    "df"
   ]
  },
  {
   "cell_type": "code",
   "execution_count": 20,
   "id": "558a5d82",
   "metadata": {},
   "outputs": [
    {
     "data": {
      "text/plain": [
       "'Kalau aku sih gak nunggu hasil akhir QC tp lagi nunggu motif cuitan pak @SBYudhoyono kayak apa.. pasca #AgusSilvy Nyungsep..'"
      ]
     },
     "execution_count": 20,
     "metadata": {},
     "output_type": "execute_result"
    }
   ],
   "source": [
    "df.Tweet[2]"
   ]
  },
  {
   "cell_type": "code",
   "execution_count": 9,
   "id": "d1391265",
   "metadata": {},
   "outputs": [
    {
     "data": {
      "text/plain": [
       "'sih tidak menunggu hasil qc tetapi menunggu motif cuit susilo bambang yudhoyono kayak pasca nyungsep'"
      ]
     },
     "execution_count": 9,
     "metadata": {},
     "output_type": "execute_result"
    }
   ],
   "source": [
    "df.preprocessing[2]"
   ]
  },
  {
   "cell_type": "code",
   "execution_count": 10,
   "id": "033fc37d",
   "metadata": {},
   "outputs": [
    {
     "data": {
      "text/plain": [
       "'sih tunggu hasil qc tunggu motif cuit susilo bambang yudhoyono kayak pasca nyungsep'"
      ]
     },
     "execution_count": 10,
     "metadata": {},
     "output_type": "execute_result"
    }
   ],
   "source": [
    "df.preprobaru[2]"
   ]
  },
  {
   "cell_type": "code",
   "execution_count": 21,
   "id": "a87f0446",
   "metadata": {
    "scrolled": true
   },
   "outputs": [
    {
     "data": {
      "text/plain": [
       "Id                0\n",
       "Sentiment         0\n",
       "Pasangan Calon    0\n",
       "Tweet             0\n",
       "preprocessing     0\n",
       "preprobaru        0\n",
       "dtype: int64"
      ]
     },
     "execution_count": 21,
     "metadata": {},
     "output_type": "execute_result"
    }
   ],
   "source": [
    "df.isna().sum()"
   ]
  },
  {
   "cell_type": "code",
   "execution_count": 22,
   "id": "b26b7e1d",
   "metadata": {},
   "outputs": [
    {
     "data": {
      "text/plain": [
       "<900x2315 sparse matrix of type '<class 'numpy.int64'>'\n",
       "\twith 9426 stored elements in Compressed Sparse Row format>"
      ]
     },
     "execution_count": 22,
     "metadata": {},
     "output_type": "execute_result"
    }
   ],
   "source": [
    "from sklearn.feature_extraction.text import CountVectorizer\n",
    "\n",
    "count_vect = CountVectorizer()\n",
    "x = count_vect.fit_transform(df.preprobaru)\n",
    "x"
   ]
  },
  {
   "cell_type": "code",
   "execution_count": 33,
   "id": "d33fba4a",
   "metadata": {
    "scrolled": true
   },
   "outputs": [],
   "source": [
    "from sklearn.feature_extraction.text import TfidfVectorizer\n",
    "\n",
    "vectorizer = TfidfVectorizer()\n",
    "X = vectorizer.fit_transform(df['preprobaru'])\n",
    "y = df['Sentiment']"
   ]
  },
  {
   "cell_type": "code",
   "execution_count": 24,
   "id": "76c518cb",
   "metadata": {},
   "outputs": [
    {
     "data": {
      "text/plain": [
       "(900, 2315)"
      ]
     },
     "execution_count": 24,
     "metadata": {},
     "output_type": "execute_result"
    }
   ],
   "source": [
    "X.shape"
   ]
  },
  {
   "cell_type": "markdown",
   "id": "dd6ff0a6",
   "metadata": {},
   "source": [
    "#### Menyimpan corpus TFIDF"
   ]
  },
  {
   "cell_type": "code",
   "execution_count": 25,
   "id": "bc449cf2",
   "metadata": {},
   "outputs": [],
   "source": [
    "import pickle\n",
    "\n",
    "vokabuler = vectorizer.vocabulary_\n",
    "\n",
    "# Menyimpan vokabuler ke file\n",
    "with open('vokabulerbaru.pkl', 'wb') as file:\n",
    "    pickle.dump(vokabuler, file)"
   ]
  },
  {
   "cell_type": "markdown",
   "id": "d3428bf2",
   "metadata": {},
   "source": [
    "SVM + ALGORITMA GENETIKA\n",
    "&\n",
    "Perbedaan preprocessing dan preprobaru"
   ]
  },
  {
   "cell_type": "code",
   "execution_count": 34,
   "id": "2177c62d",
   "metadata": {
    "scrolled": false
   },
   "outputs": [
    {
     "name": "stdout",
     "output_type": "stream",
     "text": [
      "Generation 1 - Best Accuracy: 0.8667, Best Parameters: {'C': 4.194213520670075, 'gamma': 0.4285872165429614, 'kernel': 'rbf'}\n",
      "Generation 2 - Best Accuracy: 0.8556, Best Parameters: {'C': 4.194213520670075, 'gamma': 0.8239558866557618, 'kernel': 'rbf'}\n",
      "Generation 3 - Best Accuracy: 0.8667, Best Parameters: {'C': 3.3138295326877354, 'gamma': 0.36792174593995963, 'kernel': 'rbf'}\n",
      "Generation 4 - Best Accuracy: 0.8556, Best Parameters: {'C': 9.145854888081173, 'gamma': 0.048888782434206704, 'kernel': 'rbf'}\n",
      "Generation 5 - Best Accuracy: 0.8556, Best Parameters: {'C': 1.2768549126878226, 'gamma': 0.8006690595564618, 'kernel': 'linear'}\n",
      "Generation 6 - Best Accuracy: 0.8667, Best Parameters: {'C': 2.135807699889878, 'gamma': 0.7547400256763355, 'kernel': 'rbf'}\n",
      "Generation 7 - Best Accuracy: 0.8556, Best Parameters: {'C': 1.2768549126878226, 'gamma': 0.10518824269133656, 'kernel': 'linear'}\n",
      "Generation 8 - Best Accuracy: 0.8667, Best Parameters: {'C': 2.135807699889878, 'gamma': 0.39138845136571637, 'kernel': 'rbf'}\n",
      "Generation 9 - Best Accuracy: 0.8556, Best Parameters: {'C': 1.828207194804518, 'gamma': 0.5288467248733651, 'kernel': 'rbf'}\n",
      "Generation 10 - Best Accuracy: 0.8778, Best Parameters: {'C': 1.828207194804518, 'gamma': 0.28045741206381314, 'kernel': 'rbf'}\n",
      "Generation 11 - Best Accuracy: 0.8667, Best Parameters: {'C': 1.828207194804518, 'gamma': 0.8547320901223905, 'kernel': 'rbf'}\n",
      "Generation 12 - Best Accuracy: 0.8667, Best Parameters: {'C': 1.828207194804518, 'gamma': 0.8547320901223905, 'kernel': 'rbf'}\n",
      "Generation 13 - Best Accuracy: 0.8667, Best Parameters: {'C': 1.828207194804518, 'gamma': 0.8547320901223905, 'kernel': 'rbf'}\n",
      "Generation 14 - Best Accuracy: 0.8556, Best Parameters: {'C': 1.2768549126878226, 'gamma': 0.7387892731144604, 'kernel': 'linear'}\n",
      "Generation 15 - Best Accuracy: 0.8667, Best Parameters: {'C': 1.828207194804518, 'gamma': 0.8547320901223905, 'kernel': 'rbf'}\n",
      "Generation 16 - Best Accuracy: 0.8667, Best Parameters: {'C': 1.828207194804518, 'gamma': 0.8547320901223905, 'kernel': 'rbf'}\n",
      "Generation 17 - Best Accuracy: 0.8667, Best Parameters: {'C': 1.828207194804518, 'gamma': 0.595141530418214, 'kernel': 'rbf'}\n",
      "Generation 18 - Best Accuracy: 0.8667, Best Parameters: {'C': 1.828207194804518, 'gamma': 0.4034063662671497, 'kernel': 'rbf'}\n",
      "Generation 19 - Best Accuracy: 0.8667, Best Parameters: {'C': 1.828207194804518, 'gamma': 0.4034063662671497, 'kernel': 'rbf'}\n",
      "Generation 20 - Best Accuracy: 0.8444, Best Parameters: {'C': 12.575066007866372, 'gamma': 0.842963897734422, 'kernel': 'rbf'}\n"
     ]
    }
   ],
   "source": [
    "import numpy as np\n",
    "import pandas as pd\n",
    "from sklearn import datasets\n",
    "from sklearn.model_selection import train_test_split\n",
    "from sklearn.svm import SVC\n",
    "from sklearn.metrics import accuracy_score\n",
    "\n",
    "\n",
    "def initialize_population(pop_size):\n",
    "    population = []\n",
    "    for _ in range(pop_size):\n",
    "        parameters = {\n",
    "            'C': np.random.uniform(0.1, 100),\n",
    "            'gamma': np.random.uniform(0.001, 1),\n",
    "            'kernel': np.random.choice(['linear', 'rbf', 'poly'])\n",
    "        }\n",
    "        population.append(parameters)\n",
    "    return population\n",
    "\n",
    "\n",
    "def calculate_fitness(parameters, X_train, X_test, y_train, y_test):\n",
    "    svm_model = SVC(C=parameters['C'], gamma=parameters['gamma'], kernel=parameters['kernel'])\n",
    "    svm_model.fit(X_train, y_train)\n",
    "    predictions = svm_model.predict(X_test)\n",
    "    accuracy = accuracy_score(y_test, predictions)\n",
    "    return accuracy\n",
    "\n",
    "\n",
    "def select_parents(population, fitness_scores):\n",
    "    fitness_scores = np.array(fitness_scores)\n",
    "    selected_indices = np.random.choice(len(population), size=2, p=fitness_scores/fitness_scores.sum(), replace=False)\n",
    "    return [population[i] for i in selected_indices]\n",
    "\n",
    "\n",
    "def crossover(parent1, parent2):\n",
    "    if isinstance(parent1, dict) and isinstance(parent2, dict):\n",
    "        child = {\n",
    "            'C': np.random.choice([parent1['C'], parent2['C']]),\n",
    "            'gamma': np.random.choice([parent1['gamma'], parent2['gamma']]),\n",
    "            'kernel': np.random.choice([parent1['kernel'], parent2['kernel']])\n",
    "        }\n",
    "    elif isinstance(parent1, list) and isinstance(parent2, list):\n",
    "        child = {\n",
    "            'C': np.random.choice([parent1[0]['C'], parent2[0]['C']]),\n",
    "            'gamma': np.random.choice([parent1[0]['gamma'], parent2[0]['gamma']]),\n",
    "            'kernel': np.random.choice([parent1[0]['kernel'], parent2[0]['kernel']])\n",
    "        }\n",
    "    else:\n",
    "        raise ValueError(\"Invalid data types for parents.\")\n",
    "    return child\n",
    "\n",
    "\n",
    "\n",
    "def mutate(child):\n",
    "    mutation_prob = 0.2\n",
    "    if np.random.rand() < mutation_prob:\n",
    "        child['C'] = np.random.uniform(0.1, 100)\n",
    "    if np.random.rand() < mutation_prob:\n",
    "        child['gamma'] = np.random.uniform(0.001, 1)\n",
    "    if np.random.rand() < mutation_prob:\n",
    "        child['kernel'] = np.random.choice(['linear', 'rbf', 'poly'])\n",
    "    return child\n",
    "\n",
    "\n",
    "def genetic_algorithm(X_train, X_test, y_train, y_test, pop_size=10, generations=5):\n",
    "    population = initialize_population(pop_size)\n",
    "\n",
    "    for generation in range(generations):\n",
    "        fitness_scores = [calculate_fitness(params, X_train, X_test, y_train, y_test) for params in population]\n",
    "\n",
    "        best_idx = np.argmax(fitness_scores)\n",
    "        best_params = population[best_idx]\n",
    "        best_accuracy = fitness_scores[best_idx]\n",
    "\n",
    "        print(f\"Generation {generation+1} - Best Accuracy: {best_accuracy:.4f}, Best Parameters: {best_params}\")\n",
    "\n",
    "        new_population = []\n",
    "\n",
    "        for _ in range(pop_size // 2):\n",
    "            parent1 = select_parents(population, fitness_scores)\n",
    "            parent2 = select_parents(population, fitness_scores)\n",
    "\n",
    "            child1 = crossover(parent1, parent2)\n",
    "            child1 = mutate(child1)\n",
    "\n",
    "            child2 = crossover(parent1, parent2)\n",
    "            child2 = mutate(child2)\n",
    "\n",
    "            new_population.extend([child1, child2])\n",
    "\n",
    "        population = new_population\n",
    "\n",
    "    return best_params\n",
    "\n",
    "\n",
    "X_train, X_test, y_train, y_test = train_test_split(X, y, test_size=0.1, random_state=123)\n",
    "\n",
    "\n",
    "best_parameters = genetic_algorithm(X_train, X_test, y_train, y_test, pop_size=43, generations=20)"
   ]
  },
  {
   "cell_type": "code",
   "execution_count": 29,
   "id": "bc074170",
   "metadata": {},
   "outputs": [
    {
     "name": "stdout",
     "output_type": "stream",
     "text": [
      "Generation 1 - Best Accuracy: 0.8333, Best Parameters: {'C': 52.40410730079416, 'gamma': 0.961835593619865, 'kernel': 'rbf'}\n",
      "Generation 2 - Best Accuracy: 0.8333, Best Parameters: {'C': 76.52565922527214, 'gamma': 0.9772369656524569, 'kernel': 'rbf'}\n",
      "Generation 3 - Best Accuracy: 0.8333, Best Parameters: {'C': 71.09915107945082, 'gamma': 0.9056807072879758, 'kernel': 'rbf'}\n",
      "Generation 4 - Best Accuracy: 0.8333, Best Parameters: {'C': 83.54302200522892, 'gamma': 0.8174594112351633, 'kernel': 'rbf'}\n",
      "Generation 5 - Best Accuracy: 0.8333, Best Parameters: {'C': 5.945287225322495, 'gamma': 0.9962542840047922, 'kernel': 'rbf'}\n",
      "Generation 6 - Best Accuracy: 0.8333, Best Parameters: {'C': 43.86951195654675, 'gamma': 0.7646922766968585, 'kernel': 'rbf'}\n",
      "Generation 7 - Best Accuracy: 0.8333, Best Parameters: {'C': 48.37482550041252, 'gamma': 0.8730436293839269, 'kernel': 'rbf'}\n",
      "Generation 8 - Best Accuracy: 0.8333, Best Parameters: {'C': 48.37482550041252, 'gamma': 0.810811511134759, 'kernel': 'rbf'}\n",
      "Generation 9 - Best Accuracy: 0.8333, Best Parameters: {'C': 4.472698033206007, 'gamma': 0.11264349323304211, 'kernel': 'rbf'}\n",
      "Generation 10 - Best Accuracy: 0.8333, Best Parameters: {'C': 35.26760837562684, 'gamma': 0.8107501353105497, 'kernel': 'rbf'}\n",
      "Generation 11 - Best Accuracy: 0.8333, Best Parameters: {'C': 83.25194550720273, 'gamma': 0.7506387639968665, 'kernel': 'rbf'}\n",
      "Generation 12 - Best Accuracy: 0.8444, Best Parameters: {'C': 4.472698033206007, 'gamma': 0.7618943408792879, 'kernel': 'rbf'}\n",
      "Generation 13 - Best Accuracy: 0.8333, Best Parameters: {'C': 59.84198873593439, 'gamma': 0.7971674799688376, 'kernel': 'rbf'}\n",
      "Generation 14 - Best Accuracy: 0.8333, Best Parameters: {'C': 70.93524813593756, 'gamma': 0.7882295913654538, 'kernel': 'rbf'}\n",
      "Generation 15 - Best Accuracy: 0.8333, Best Parameters: {'C': 85.36935313763557, 'gamma': 0.7618943408792879, 'kernel': 'rbf'}\n",
      "Generation 16 - Best Accuracy: 0.8333, Best Parameters: {'C': 95.56248773865069, 'gamma': 0.7618943408792879, 'kernel': 'rbf'}\n",
      "Generation 17 - Best Accuracy: 0.8333, Best Parameters: {'C': 45.273460510395395, 'gamma': 0.788338510868102, 'kernel': 'rbf'}\n",
      "Generation 18 - Best Accuracy: 0.8333, Best Parameters: {'C': 32.86924643444647, 'gamma': 0.9881204586555788, 'kernel': 'rbf'}\n",
      "Generation 19 - Best Accuracy: 0.8333, Best Parameters: {'C': 64.49999961260907, 'gamma': 0.788338510868102, 'kernel': 'rbf'}\n",
      "Generation 20 - Best Accuracy: 0.8333, Best Parameters: {'C': 64.49999961260907, 'gamma': 0.788338510868102, 'kernel': 'rbf'}\n"
     ]
    }
   ],
   "source": [
    "from sklearn.feature_extraction.text import TfidfVectorizer\n",
    "\n",
    "vectorizer = TfidfVectorizer()\n",
    "X = vectorizer.fit_transform(df['preprocessing'])\n",
    "y = df['Sentiment']\n",
    "\n",
    "X_train, X_test, y_train, y_test = train_test_split(X, y, test_size=0.1, random_state=123)\n",
    "\n",
    "\n",
    "best_parameters = genetic_algorithm(X_train, X_test, y_train, y_test, pop_size=43, generations=20)"
   ]
  },
  {
   "cell_type": "code",
   "execution_count": 41,
   "id": "06ee4a30",
   "metadata": {},
   "outputs": [
    {
     "name": "stdout",
     "output_type": "stream",
     "text": [
      "              precision    recall  f1-score   support\n",
      "\n",
      "    negative       0.83      0.93      0.88        42\n",
      "    positive       0.93      0.83      0.88        48\n",
      "\n",
      "    accuracy                           0.88        90\n",
      "   macro avg       0.88      0.88      0.88        90\n",
      "weighted avg       0.88      0.88      0.88        90\n",
      "\n"
     ]
    }
   ],
   "source": [
    "from sklearn.metrics import classification_report\n",
    "from sklearn.svm import SVC\n",
    "\n",
    "# SVM preprobaru\n",
    "clfs = SVC(C=1.828207194804518, gamma= 0.28045741206381314, kernel= 'rbf')\n",
    "clfs.fit(X_train, y_train)\n",
    "y_pred = clfs.predict(X_test)\n",
    "print(classification_report(y_test, y_pred))"
   ]
  },
  {
   "cell_type": "code",
   "execution_count": 39,
   "id": "338a4c8d",
   "metadata": {},
   "outputs": [
    {
     "name": "stdout",
     "output_type": "stream",
     "text": [
      "              precision    recall  f1-score   support\n",
      "\n",
      "    negative       0.82      0.88      0.85        42\n",
      "    positive       0.89      0.83      0.86        48\n",
      "\n",
      "    accuracy                           0.86        90\n",
      "   macro avg       0.86      0.86      0.86        90\n",
      "weighted avg       0.86      0.86      0.86        90\n",
      "\n"
     ]
    }
   ],
   "source": [
    "from sklearn.metrics import classification_report\n",
    "from sklearn.svm import SVC\n",
    "\n",
    "# SVM preprocessing\n",
    "clf = SVC(C=4.472698033206007, gamma= 0.7618943408792879, kernel= 'rbf')\n",
    "clf.fit(X_train, y_train)\n",
    "y_pred = clf.predict(X_test)\n",
    "print(classification_report(y_test, y_pred))"
   ]
  },
  {
   "cell_type": "code",
   "execution_count": 40,
   "id": "6117c114",
   "metadata": {},
   "outputs": [
    {
     "data": {
      "text/plain": [
       "90"
      ]
     },
     "execution_count": 40,
     "metadata": {},
     "output_type": "execute_result"
    }
   ],
   "source": [
    "len(y_test)"
   ]
  },
  {
   "cell_type": "code",
   "execution_count": 49,
   "id": "6cbaa99d",
   "metadata": {},
   "outputs": [
    {
     "name": "stdout",
     "output_type": "stream",
     "text": [
      "\n",
      "Confusion Matrix:\n",
      " [[39  3]\n",
      " [ 8 40]]\n"
     ]
    },
    {
     "data": {
      "image/png": "[encoded data removed]",
      "text/plain": [
       "<Figure size 800x600 with 2 Axes>"
      ]
     },
     "metadata": {},
     "output_type": "display_data"
    }
   ],
   "source": [
    "import matplotlib.pyplot as plt\n",
    "import seaborn as sns\n",
    "from sklearn.metrics import classification_report, confusion_matrix\n",
    "from sklearn.svm import SVC\n",
    "from sklearn.model_selection import train_test_split\n",
    "\n",
    "\n",
    "# Print confusion matrix\n",
    "conf_matrix = confusion_matrix(y_test, y_pred)\n",
    "print(\"\\nConfusion Matrix:\\n\", conf_matrix)\n",
    "\n",
    "# Visualisasi confusion matrix menggunakan heatmap\n",
    "plt.figure(figsize=(8, 6))\n",
    "sns.heatmap(conf_matrix, annot=True, fmt='d', cmap='Blues', xticklabels=['Negatif', 'Positif'], yticklabels=['Negatif', 'Positif'])\n",
    "plt.title('Confusion Matrix')\n",
    "plt.xlabel('Predicted Label')\n",
    "plt.ylabel('True Label')\n",
    "plt.show()"
   ]
  },
  {
   "cell_type": "code",
   "execution_count": 42,
   "id": "8a902106",
   "metadata": {},
   "outputs": [
    {
     "data": {
      "text/plain": [
       "['svm88.sav']"
      ]
     },
     "execution_count": 42,
     "metadata": {},
     "output_type": "execute_result"
    }
   ],
   "source": [
    "import joblib\n",
    "\n",
    "joblib.dump(clfs, 'svm88.sav')"
   ]
  },
  {
   "cell_type": "code",
   "execution_count": 45,
   "id": "392c0986",
   "metadata": {},
   "outputs": [
    {
     "data": {
      "text/plain": [
       "array(['positive'], dtype=object)"
      ]
     },
     "execution_count": 45,
     "metadata": {},
     "output_type": "execute_result"
    }
   ],
   "source": [
    "from sklearn.feature_extraction.text import TfidfVectorizer\n",
    "\n",
    "# Memuat vokabuler yang telah disimpan\n",
    "with open('vokabulerbaru.pkl', 'rb') as file:\n",
    "    vokabuler_loaded = pickle.load(file)\n",
    "\n",
    "vectorizer = TfidfVectorizer(vocabulary=vokabuler_loaded)\n",
    "teks_baru_transformed = vectorizer.fit_transform(['saya ingin ganjar menang dan menjadi presiden'])\n",
    "y = df['Sentiment']\n",
    "\n",
    "svm_tfidf_model = joblib.load('svm88.sav')\n",
    "prediksi = svm_tfidf_model.predict(teks_baru_transformed)\n",
    "prediksi"
   ]
  },
  {
   "cell_type": "code",
   "execution_count": 17,
   "id": "20dd6eb7",
   "metadata": {},
   "outputs": [],
   "source": [
    "#import library\n",
    "from tkinter import *            # Untuk membuat GUI\n",
    "from PIL import ImageTk, Image   # Untuk membaca Gambar\n",
    "from tkinter import ttk          # Untuk mengatur style widget\n",
    "import pandas as pd              # untuk membaca dan menyimpan csv\n",
    "from tkinter import messagebox   # untuk menampilkan showinfo\n",
    "from docx import Document        # untuk menyimpan entryan ke document\n",
    "import datetime as dt            # untuk menampilkan tanggal bulan dan tahun pada dataset\n",
    "import customtkinter             # untuk memperbagus button, combobox\n",
    "import os \n",
    "os.system('cls')\n",
    "import shutil\n",
    "import joblib\n",
    "import pickle\n",
    "from tkinter import filedialog\n",
    "import csv\n",
    "import re\n",
    "from Sastrawi.Stemmer.StemmerFactory import StemmerFactory\n",
    "from sklearn.feature_extraction.text import TfidfVectorizer\n",
    "\n",
    "class News_title:\n",
    "    \n",
    "    def __init__(self, master):\n",
    "        self.window = master\n",
    "        \n",
    "        # Atur ukuran jendela menjadi 1280x720 piksel\n",
    "        self.window.geometry('1280x720') \n",
    "        \n",
    "        # Nonaktifkan kemampuan pengubahan ukuran jendela (0, 0 berarti tidak dapat diubah ukurannya)\n",
    "        self.window.resizable(0, 0) \n",
    "        \n",
    "        # Memberikan judul pada GUI\n",
    "        self.window.title('News Tittle Clasification')\n",
    "        \n",
    "        # Background\n",
    "        photo_bgDasar = ImageTk.PhotoImage(Image.open('gambarnya/bg_GUI.jpg'))\n",
    "        self.bgAwal = Label(self.window, image=photo_bgDasar, width=1280, height=730)\n",
    "        self.bgAwal.image = photo_bgDasar\n",
    "        self.bgAwal.place(x=0, y=0)\n",
    "        \n",
    "        self.timpa = Frame(self.window, bg=\"#3e63bb\", width=500, height=400)\n",
    "        self.timpa.place(x=700, y=200)\n",
    "\n",
    "        # Login to your account\n",
    "        self.entry = Entry(self.window, background=\"white\", fg=\"black\",\n",
    "                             font=(\"britannic bold\", 12), relief=FLAT)\n",
    "        self.entry.place(x=100, y=494, width=495, height=47)\n",
    "        \n",
    "        alay_dict = pd.read_csv('new_kamusalay.csv', header=None, encoding='latin-1')\n",
    "        # Mengganti nama kolom\n",
    "        alay_dict = alay_dict.rename(columns={0: 'original',\n",
    "                                             1: 'replacement'})\n",
    "        alay_dict.head()\n",
    "\n",
    "        id_stopword_dict = pd.read_csv('stopwordbahasa.csv', header=None, encoding='latin-1')\n",
    "        id_stopword_dict = id_stopword_dict.rename(columns={0: 'stopword'})\n",
    "\n",
    "        factory = StemmerFactory()\n",
    "        stemmer = factory.create_stemmer()\n",
    "\n",
    "        def lowercase(text):\n",
    "            return text.lower()\n",
    "\n",
    "        def remove_unnecessary_char(text):\n",
    "            text = re.sub('\\n', ' ', text) # Remove every '\\n'\n",
    "            text = re.sub('rt', ' ', text) # Remove every retweet symbol\n",
    "            text = re.sub('user', ' ', text) # Remove every username\n",
    "            text = re.sub('((www\\.[^\\s]+)|(https?://[^\\s]+))', ' ', text) # Remove every url\n",
    "            text = re.sub('  +', ' ', text) # Remove extra spaces\n",
    "            return text\n",
    "\n",
    "        def remove_symbolnumeric(text):\n",
    "            # Menghapus simbol selain huruf dan spasi, dan menggantinya dengan spasi\n",
    "            text_without_symbols = re.sub(r'[^a-zA-Z\\s]', ' ', text)\n",
    "\n",
    "            # Mengganti multiple spasi dengan satu spasi\n",
    "            text_without_symbols = re.sub(r'\\s+', ' ', text_without_symbols)\n",
    "\n",
    "            return text_without_symbols.strip()\n",
    "\n",
    "        alay_dict_map = dict(zip(alay_dict['original'], alay_dict['replacement']))\n",
    "\n",
    "        def normalize_alay(text):\n",
    "            return ' '.join([alay_dict_map[word] if word in alay_dict_map else word for word in text.split(' ')])\n",
    "\n",
    "        def remove_stopword(text):\n",
    "            text = ' '.join([ ' ' if word in id_stopword_dict.stopword.values else word for word in text.split(' ')])\n",
    "            text = re.sub('  +', ' ', text) # Remove extra spaces\n",
    "            text = text.strip() # Remove space in begining and end of sentences\n",
    "            return text\n",
    "\n",
    "        # Mengubah kata menjadi kata dasar nya. Ex: Programmer, programming = program\n",
    "        def stemming (text):\n",
    "            return stemmer.stem(text)\n",
    "\n",
    "        def remove_hashtags_user(text):\n",
    "            tweet_without_hashtags = ' '.join(word for word in text.split() if not word.startswith('#'))\n",
    "\n",
    "            tweet_without_mentions = re.sub(r'@\\w+', '', tweet_without_hashtags)\n",
    "\n",
    "            return tweet_without_mentions\n",
    "\n",
    "        def preprocess(text):\n",
    "            text = lowercase(text)\n",
    "            text = remove_unnecessary_char(text)\n",
    "            text = remove_hashtags_user(text)\n",
    "            text = remove_symbolnumeric(text)\n",
    "            text = normalize_alay(text)\n",
    "            text = remove_stopword(text)\n",
    "            text = stemming(text)\n",
    "            return text\n",
    "\n",
    "        \n",
    "        def prediksi():\n",
    "            \n",
    "            if self.entry.get():\n",
    "                try:\n",
    "                    self.pred.destroy()\n",
    "                    \n",
    "                except:\n",
    "                    pass\n",
    "            \n",
    "               \n",
    "\n",
    "                # Memuat vokabuler yang telah disimpan\n",
    "                with open('vokabulerbaru.pkl', 'rb') as file:\n",
    "                    vokabuler_loaded = pickle.load(file)\n",
    "\n",
    "                vectorizer_baru = TfidfVectorizer(vocabulary=vokabuler_loaded)\n",
    "\n",
    "                teks_baru = self.entry.get()\n",
    "                teks_baru = preprocess(teks_baru)\n",
    "                teks_baru_transformed = vectorizer_baru.fit_transform([teks_baru])\n",
    "\n",
    "                svm_tfidf_model = joblib.load('svm88.sav')\n",
    "                prediksi = svm_tfidf_model.predict(teks_baru_transformed)\n",
    "                \n",
    "                if prediksi[0] == 'positive':\n",
    "                    photo_pred = ImageTk.PhotoImage(Image.open('gambarnya/positif-01.png'))\n",
    "                    self.pred = Label(self.timpa, image=photo_pred, bg='#3e63bb',width=1280, height=730)\n",
    "                    self.pred.image = photo_pred\n",
    "                    self.pred.place(x=-390, y=-170)\n",
    "                    \n",
    "                else:\n",
    "                    photo_pred = ImageTk.PhotoImage(Image.open('gambarnya/negatif-01.png'))\n",
    "                    self.pred = Label(self.timpa, image=photo_pred, bg='#3e63bb',width=1280, height=730)\n",
    "                    self.pred.image = photo_pred\n",
    "                    self.pred.place(x=-390, y=-170)\n",
    "                \n",
    "                \n",
    "            else:\n",
    "                messagebox.showinfo(\"Peringatan\", \"Entry belum di isi\")\n",
    "\n",
    "                \n",
    "        def predik_csv():\n",
    "            \n",
    "            def process_csv(file):\n",
    "                global df\n",
    "                df = pd.read_csv(file_path)\n",
    "                df = df.head(10)\n",
    "                X = df[\"preprocessing\"].apply(preprocess)\n",
    "                \n",
    "                # Memuat vokabuler yang telah disimpan\n",
    "                with open('vokabulerbaru.pkl', 'rb') as file:\n",
    "                    vokabuler_loaded = pickle.load(file)\n",
    "\n",
    "                vectorizer_baru = TfidfVectorizer(vocabulary=vokabuler_loaded)\n",
    "\n",
    "                teks_baru_transformed = vectorizer_baru.fit_transform(X)\n",
    "\n",
    "                svm_tfidf_model = joblib.load('svm88.sav')\n",
    "                prediksi = svm_tfidf_model.predict(teks_baru_transformed)\n",
    "            \n",
    "                df[\"Sentiment\"] = prediksi\n",
    "                \n",
    "                def display_dataframe():\n",
    "                    for i, row in df.iterrows():\n",
    "                        tree.insert('', 'end', values=(row['Tweet'], row['Sentiment']))\n",
    "                        \n",
    "                # Buat TreeView\n",
    "                columns = ('Tweet', 'Sentiment')\n",
    "                tree = ttk.Treeview(self.timpa, columns=columns, show='headings')\n",
    "                tree.tag_configure('mytag', font=('Gungsuh', 13))\n",
    "                \n",
    "                \n",
    "                # Atur lebar kolom\n",
    "                for col in columns:\n",
    "                    if col == \"Tweet\":\n",
    "                        tree.heading(col, text=col)\n",
    "                        tree.column(col, width=400)\n",
    "                        continue\n",
    "                        \n",
    "                    tree.heading(col, text=col)\n",
    "                    tree.column(col, width=100)  # Ganti lebar sesuai kebutuhan\n",
    "\n",
    "                tree.place(x=0,y=0, height=400)\n",
    "\n",
    "                # Tambahkan data DataFrame ke dalam TreeView\n",
    "                display_dataframe()\n",
    "                \n",
    "                for item in tree.get_children():\n",
    "                    tree.item(item, tags=('mytag',))\n",
    "\n",
    "            # Fungsi untuk membuka jendela dialog pemilihan file CSV\n",
    "            global file_path\n",
    "            file_path = filedialog.askopenfilename(filetypes=[(\"CSV files\", \"*.csv\")])\n",
    "            if file_path:\n",
    "                process_csv(file_path)\n",
    "\n",
    "\n",
    "        def export_to_csv():\n",
    "            file_path_export = filedialog.asksaveasfilename(defaultextension=\".csv\", filetypes=[(\"CSV files\", \"*.csv\")])\n",
    "\n",
    "            if file_path_export:\n",
    "                df.to_csv(file_path_export, index=False)\n",
    "                messagebox.showinfo(\"Ekspor Sukses\", \"Data has been exported successfully!\")      \n",
    "                    \n",
    "\n",
    "        def reset():\n",
    "            try:\n",
    "                self.pred.destroy()\n",
    "            except:\n",
    "                messagebox.showinfo(\"Peringatan\", \"Entry belum di isi\")\n",
    "\n",
    "        # SEARCH\n",
    "        image = Image.open('gambarnya/searcc.png')\n",
    "\n",
    "        # Resize the image - make sure to provide a tuple for the size (width, height)\n",
    "        resized_image = image.resize((40, 40), Image.Resampling.NEAREST)  # or use any other resampling filter as needed\n",
    "\n",
    "        # Convert to a format Tkinter can use\n",
    "        photo_search = ImageTk.PhotoImage(resized_image)\n",
    "        self.search = Button(self.window, image=photo_search, bg='white',relief=FLAT, command=prediksi)\n",
    "        self.search.image = photo_search\n",
    "        self.search.place(x=550, y=495)\n",
    "        \n",
    "        # FILE\n",
    "        image = Image.open('gambarnya/file.png')\n",
    "\n",
    "        # Resize the image - make sure to provide a tuple for the size (width, height)\n",
    "        resized_image = image.resize((40, 40), Image.Resampling.NEAREST) # or use any other resampling filter as needed\n",
    " \n",
    "        # Convert to a format Tkinter can use\n",
    "        photo_file = ImageTk.PhotoImage(resized_image)\n",
    "        self.file = Button(self.window, image=photo_file, bg='white',relief=FLAT, command=predik_csv)\n",
    "        self.file.image = photo_file\n",
    "        self.file.place(x=595, y=494, height=47)\n",
    "        self.btnreset=customtkinter.CTkButton(master=self.window,text=' Reset ',text_font=('Courier New', 20), corner_radius=0,text_color=\"black\", width=150, height=40, fg_color=\"white\",hover_color=\"#444352\", command=reset).place(x=320, y=550)\n",
    "        self.btnreset=customtkinter.CTkButton(master=self.window,text=' Export ',text_font=('Courier New', 20), corner_radius=0,text_color=\"black\", width=150, height=40, fg_color=\"white\",hover_color=\"#444352\", command=export_to_csv).place(x=488, y=550)\n",
    "        \n",
    "window = Tk()\n",
    "root = News_title(window)\n",
    "window.mainloop()"
   ]
  },
  {
   "cell_type": "code",
   "execution_count": 107,
   "id": "762785eb",
   "metadata": {
    "scrolled": true
   },
   "outputs": [
    {
     "data": {
      "text/plain": [
       "index            0\n",
       "preprocessing    1\n",
       "capres           0\n",
       "dtype: int64"
      ]
     },
     "execution_count": 107,
     "metadata": {},
     "output_type": "execute_result"
    }
   ],
   "source": [
    "df1.isna().sum()"
   ]
  },
  {
   "cell_type": "code",
   "execution_count": 46,
   "id": "ae4542fe",
   "metadata": {},
   "outputs": [],
   "source": [
    "from sklearn.feature_extraction.text import TfidfVectorizer\n",
    "import pickle\n",
    "import pandas as pd\n",
    "\n",
    "df = pd.read_csv('capresh.csv')\n",
    "df\n",
    "\n",
    "# Memuat vokabuler yang telah disimpan\n",
    "with open('vokabulerbaru.pkl', 'rb') as file:\n",
    "    vokabuler_loaded = pickle.load(file)\n",
    "\n",
    "X = df['preprocessing']\n",
    "vectorizer = TfidfVectorizer(vocabulary=vokabuler_loaded)\n",
    "teks_baru_transformed = vectorizer.fit_transform(X)\n",
    "\n",
    "svm_tfidf_model = joblib.load('svm88.sav')\n",
    "prediksi = svm_tfidf_model.predict(teks_baru_transformed)\n",
    "df['label'] = prediksi"
   ]
  },
  {
   "cell_type": "code",
   "execution_count": 47,
   "id": "ec2b21d8",
   "metadata": {},
   "outputs": [
    {
     "data": {
      "text/html": [
       "<div>\n",
       "<style scoped>\n",
       "    .dataframe tbody tr th:only-of-type {\n",
       "        vertical-align: middle;\n",
       "    }\n",
       "\n",
       "    .dataframe tbody tr th {\n",
       "        vertical-align: top;\n",
       "    }\n",
       "\n",
       "    .dataframe thead th {\n",
       "        text-align: right;\n",
       "    }\n",
       "</style>\n",
       "<table border=\"1\" class=\"dataframe\">\n",
       "  <thead>\n",
       "    <tr style=\"text-align: right;\">\n",
       "      <th></th>\n",
       "      <th>preprocessing</th>\n",
       "      <th>capres</th>\n",
       "      <th>label</th>\n",
       "    </tr>\n",
       "  </thead>\n",
       "  <tbody>\n",
       "    <tr>\n",
       "      <th>0</th>\n",
       "      <td>bospurwa prabowo salah nya mana logika sederha...</td>\n",
       "      <td>anies</td>\n",
       "      <td>negative</td>\n",
       "    </tr>\n",
       "    <tr>\n",
       "      <th>1</th>\n",
       "      <td>andrerosiade putarankunci nya menyakinkan pili...</td>\n",
       "      <td>anies</td>\n",
       "      <td>negative</td>\n",
       "    </tr>\n",
       "    <tr>\n",
       "      <th>2</th>\n",
       "      <td>let us recap this calon presiden anies basweda...</td>\n",
       "      <td>anies</td>\n",
       "      <td>positive</td>\n",
       "    </tr>\n",
       "    <tr>\n",
       "      <th>3</th>\n",
       "      <td>papaloren force majeur sepe i sepe inya lolos ...</td>\n",
       "      <td>anies</td>\n",
       "      <td>negative</td>\n",
       "    </tr>\n",
       "    <tr>\n",
       "      <th>4</th>\n",
       "      <td>salah nya mana logika sederhana gue suara bant...</td>\n",
       "      <td>anies</td>\n",
       "      <td>negative</td>\n",
       "    </tr>\n",
       "    <tr>\n",
       "      <th>...</th>\n",
       "      <td>...</td>\n",
       "      <td>...</td>\n",
       "      <td>...</td>\n",
       "    </tr>\n",
       "    <tr>\n",
       "      <th>1282</th>\n",
       "      <td>seridianawati yusufagro prabowo aditbandit ale...</td>\n",
       "      <td>prabowo</td>\n",
       "      <td>negative</td>\n",
       "    </tr>\n",
       "    <tr>\n",
       "      <th>1283</th>\n",
       "      <td>ridhookuswandi prabowo unggul program makan si...</td>\n",
       "      <td>prabowo</td>\n",
       "      <td>positive</td>\n",
       "    </tr>\n",
       "    <tr>\n",
       "      <th>1284</th>\n",
       "      <td>bangun tahan bencana timbul air water related ...</td>\n",
       "      <td>prabowo</td>\n",
       "      <td>negative</td>\n",
       "    </tr>\n",
       "    <tr>\n",
       "      <th>1285</th>\n",
       "      <td>prabowosulbar arifahyaceh prabowo gerindra sep...</td>\n",
       "      <td>prabowo</td>\n",
       "      <td>positive</td>\n",
       "    </tr>\n",
       "    <tr>\n",
       "      <th>1286</th>\n",
       "      <td>benerwkwk ganjar masuk pe imbang sisa prabowo ...</td>\n",
       "      <td>prabowo</td>\n",
       "      <td>negative</td>\n",
       "    </tr>\n",
       "  </tbody>\n",
       "</table>\n",
       "<p>1287 rows × 3 columns</p>\n",
       "</div>"
      ],
      "text/plain": [
       "                                          preprocessing   capres     label\n",
       "0     bospurwa prabowo salah nya mana logika sederha...    anies  negative\n",
       "1     andrerosiade putarankunci nya menyakinkan pili...    anies  negative\n",
       "2     let us recap this calon presiden anies basweda...    anies  positive\n",
       "3     papaloren force majeur sepe i sepe inya lolos ...    anies  negative\n",
       "4     salah nya mana logika sederhana gue suara bant...    anies  negative\n",
       "...                                                 ...      ...       ...\n",
       "1282  seridianawati yusufagro prabowo aditbandit ale...  prabowo  negative\n",
       "1283  ridhookuswandi prabowo unggul program makan si...  prabowo  positive\n",
       "1284  bangun tahan bencana timbul air water related ...  prabowo  negative\n",
       "1285  prabowosulbar arifahyaceh prabowo gerindra sep...  prabowo  positive\n",
       "1286  benerwkwk ganjar masuk pe imbang sisa prabowo ...  prabowo  negative\n",
       "\n",
       "[1287 rows x 3 columns]"
      ]
     },
     "execution_count": 47,
     "metadata": {},
     "output_type": "execute_result"
    }
   ],
   "source": [
    "df"
   ]
  },
  {
   "cell_type": "code",
   "execution_count": 16,
   "id": "7c4609a8",
   "metadata": {},
   "outputs": [],
   "source": [
    "df.to_csv('scraplabel.csv', index=False)"
   ]
  },
  {
   "cell_type": "code",
   "execution_count": 48,
   "id": "0c0f28e2",
   "metadata": {},
   "outputs": [],
   "source": [
    "anis = df[df.capres == 'anies']\n",
    "prabowo = df[df.capres == 'prabowo']\n",
    "ganjar = df[df.capres == 'ganjar']"
   ]
  },
  {
   "cell_type": "code",
   "execution_count": 13,
   "id": "e18bd2f4",
   "metadata": {},
   "outputs": [
    {
     "data": {
      "image/png": "[encoded data removed]",
      "text/plain": [
       "<Figure size 640x480 with 1 Axes>"
      ]
     },
     "metadata": {},
     "output_type": "display_data"
    }
   ],
   "source": [
    "import pandas as pd\n",
    "import matplotlib.pyplot as plt\n",
    "\n",
    "\n",
    "# Visualisasi Pie Chart\n",
    "labels = prabowo['label'].value_counts().index\n",
    "sizes = prabowo['label'].value_counts().values\n",
    "\n",
    "plt.pie(sizes, labels=labels, autopct='%1.1f%%', startangle=90, colors=['skyblue', 'lightcoral'])\n",
    "plt.axis('equal')  # Menyamakan sumbu x dan y untuk membuat lingkaran\n",
    "plt.title('Prabowo Sentiment')\n",
    "plt.show()"
   ]
  },
  {
   "cell_type": "code",
   "execution_count": 14,
   "id": "689353cc",
   "metadata": {},
   "outputs": [
    {
     "data": {
      "image/png": "[encoded data removed]",
      "text/plain": [
       "<Figure size 640x480 with 1 Axes>"
      ]
     },
     "metadata": {},
     "output_type": "display_data"
    }
   ],
   "source": [
    "import pandas as pd\n",
    "import matplotlib.pyplot as plt\n",
    "\n",
    "\n",
    "# Visualisasi Pie Chart\n",
    "labels = ganjar['label'].value_counts().index\n",
    "sizes = ganjar['label'].value_counts().values\n",
    "\n",
    "plt.pie(sizes, labels=labels, autopct='%1.1f%%', startangle=90, colors=['skyblue', 'lightcoral'])\n",
    "plt.axis('equal')  # Menyamakan sumbu x dan y untuk membuat lingkaran\n",
    "plt.title('Ganjar Sentiment')\n",
    "plt.show()"
   ]
  },
  {
   "cell_type": "code",
   "execution_count": 15,
   "id": "40b21308",
   "metadata": {},
   "outputs": [
    {
     "data": {
      "image/png": "[encoded data removed]",
      "text/plain": [
       "<Figure size 640x480 with 1 Axes>"
      ]
     },
     "metadata": {},
     "output_type": "display_data"
    }
   ],
   "source": [
    "import pandas as pd\n",
    "import matplotlib.pyplot as plt\n",
    "\n",
    "\n",
    "# Visualisasi Pie Chart\n",
    "labels = anis['label'].value_counts().index\n",
    "sizes = anis['label'].value_counts().values\n",
    "\n",
    "plt.pie(sizes, labels=labels, autopct='%1.1f%%', startangle=90, colors=['skyblue', 'lightcoral'])\n",
    "plt.axis('equal')  # Menyamakan sumbu x dan y untuk membuat lingkaran\n",
    "plt.title('Anies Sentiment')\n",
    "plt.show()"
   ]
  },
  {
   "cell_type": "code",
   "execution_count": null,
   "id": "d1380d74",
   "metadata": {},
   "outputs": [],
   "source": []
  }
 ],
 "metadata": {
  "kernelspec": {
   "display_name": "Python 3 (ipykernel)",
   "language": "python",
   "name": "python3"
  },
  "language_info": {
   "codemirror_mode": {
    "name": "ipython",
    "version": 3
   },
   "file_extension": ".py",
   "mimetype": "text/x-python",
   "name": "python",
   "nbconvert_exporter": "python",
   "pygments_lexer": "ipython3",
   "version": "3.10.11"
  }
 },
 "nbformat": 4,
 "nbformat_minor": 5
}
